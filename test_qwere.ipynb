{
 "cells": [
  {
   "cell_type": "code",
   "execution_count": 1,
   "metadata": {},
   "outputs": [],
   "source": [
    "import pandas as pd"
   ]
  },
  {
   "cell_type": "code",
   "execution_count": 3,
   "metadata": {},
   "outputs": [],
   "source": [
    "df = pd.read_excel(\"qqqw.xlsx\")"
   ]
  },
  {
   "cell_type": "code",
   "execution_count": 4,
   "metadata": {},
   "outputs": [
    {
     "data": {
      "text/html": [
       "<div>\n",
       "<style scoped>\n",
       "    .dataframe tbody tr th:only-of-type {\n",
       "        vertical-align: middle;\n",
       "    }\n",
       "\n",
       "    .dataframe tbody tr th {\n",
       "        vertical-align: top;\n",
       "    }\n",
       "\n",
       "    .dataframe thead th {\n",
       "        text-align: right;\n",
       "    }\n",
       "</style>\n",
       "<table border=\"1\" class=\"dataframe\">\n",
       "  <thead>\n",
       "    <tr style=\"text-align: right;\">\n",
       "      <th></th>\n",
       "      <th>test_name</th>\n",
       "      <th>input</th>\n",
       "      <th>output</th>\n",
       "      <th>Unnamed: 3</th>\n",
       "    </tr>\n",
       "  </thead>\n",
       "  <tbody>\n",
       "    <tr>\n",
       "      <th>0</th>\n",
       "      <td>test_open_l</td>\n",
       "      <td>input_file1.txt</td>\n",
       "      <td>1234:Jozef:Miloslav:Hurban:Legal, 4567:Milan:R...</td>\n",
       "      <td>распарсить оутпут через запятую</td>\n",
       "    </tr>\n",
       "    <tr>\n",
       "      <th>1</th>\n",
       "      <td>test_open_l</td>\n",
       "      <td>input_file2.txt</td>\n",
       "      <td>1111:Pista::Hufnagel:Sales, 4563:Pista::Hufnag...</td>\n",
       "      <td>NaN</td>\n",
       "    </tr>\n",
       "    <tr>\n",
       "      <th>2</th>\n",
       "      <td>test_open_l</td>\n",
       "      <td>input_file3.txt</td>\n",
       "      <td>NaN</td>\n",
       "      <td>потенц.проблема</td>\n",
       "    </tr>\n",
       "    <tr>\n",
       "      <th>3</th>\n",
       "      <td>test_open_l</td>\n",
       "      <td>qwereww</td>\n",
       "      <td>NaN</td>\n",
       "      <td>потенц.проблема</td>\n",
       "    </tr>\n",
       "    <tr>\n",
       "      <th>4</th>\n",
       "      <td>test_open_l</td>\n",
       "      <td>qaddq.txt</td>\n",
       "      <td>NaN</td>\n",
       "      <td>потенц.проблема</td>\n",
       "    </tr>\n",
       "    <tr>\n",
       "      <th>5</th>\n",
       "      <td>test_split1</td>\n",
       "      <td>1234:Jozef:Miloslav:Hurban:Legal</td>\n",
       "      <td>NaN</td>\n",
       "      <td>NaN</td>\n",
       "    </tr>\n",
       "    <tr>\n",
       "      <th>6</th>\n",
       "      <td>test_split2</td>\n",
       "      <td>4567:Milan:Rastislav:Stefanik:Defence</td>\n",
       "      <td>NaN</td>\n",
       "      <td>NaN</td>\n",
       "    </tr>\n",
       "    <tr>\n",
       "      <th>7</th>\n",
       "      <td>test_split3</td>\n",
       "      <td>4563:Jozef::Murgas:Development</td>\n",
       "      <td>NaN</td>\n",
       "      <td>NaN</td>\n",
       "    </tr>\n",
       "    <tr>\n",
       "      <th>8</th>\n",
       "      <td>test_split4</td>\n",
       "      <td>incorrect:data</td>\n",
       "      <td>NaN</td>\n",
       "      <td>NaN</td>\n",
       "    </tr>\n",
       "    <tr>\n",
       "      <th>9</th>\n",
       "      <td>test_split5</td>\n",
       "      <td>incorrect:4563:Jozef::Murgas:Development:data</td>\n",
       "      <td>NaN</td>\n",
       "      <td>NaN</td>\n",
       "    </tr>\n",
       "  </tbody>\n",
       "</table>\n",
       "</div>"
      ],
      "text/plain": [
       "     test_name                                          input  \\\n",
       "0  test_open_l                                input_file1.txt   \n",
       "1  test_open_l                                input_file2.txt   \n",
       "2  test_open_l                                input_file3.txt   \n",
       "3  test_open_l                                        qwereww   \n",
       "4  test_open_l                                      qaddq.txt   \n",
       "5  test_split1               1234:Jozef:Miloslav:Hurban:Legal   \n",
       "6  test_split2          4567:Milan:Rastislav:Stefanik:Defence   \n",
       "7  test_split3                 4563:Jozef::Murgas:Development   \n",
       "8  test_split4                                 incorrect:data   \n",
       "9  test_split5  incorrect:4563:Jozef::Murgas:Development:data   \n",
       "\n",
       "                                              output  \\\n",
       "0  1234:Jozef:Miloslav:Hurban:Legal, 4567:Milan:R...   \n",
       "1  1111:Pista::Hufnagel:Sales, 4563:Pista::Hufnag...   \n",
       "2                                                NaN   \n",
       "3                                                NaN   \n",
       "4                                                NaN   \n",
       "5                                                NaN   \n",
       "6                                                NaN   \n",
       "7                                                NaN   \n",
       "8                                                NaN   \n",
       "9                                                NaN   \n",
       "\n",
       "                        Unnamed: 3  \n",
       "0  распарсить оутпут через запятую  \n",
       "1                              NaN  \n",
       "2                  потенц.проблема  \n",
       "3                  потенц.проблема  \n",
       "4                  потенц.проблема  \n",
       "5                              NaN  \n",
       "6                              NaN  \n",
       "7                              NaN  \n",
       "8                              NaN  \n",
       "9                              NaN  "
      ]
     },
     "execution_count": 4,
     "metadata": {},
     "output_type": "execute_result"
    }
   ],
   "source": [
    "df"
   ]
  },
  {
   "cell_type": "code",
   "execution_count": 6,
   "metadata": {},
   "outputs": [],
   "source": [
    "open_l_df = df.query(\"test_name=='test_open_l'\")"
   ]
  },
  {
   "cell_type": "code",
   "execution_count": 8,
   "metadata": {},
   "outputs": [
    {
     "data": {
      "text/plain": [
       "['input_file1.txt',\n",
       " 'input_file2.txt',\n",
       " 'input_file3.txt',\n",
       " 'qwereww',\n",
       " 'qaddq.txt']"
      ]
     },
     "execution_count": 8,
     "metadata": {},
     "output_type": "execute_result"
    }
   ],
   "source": [
    "list(open_l_df.input)"
   ]
  },
  {
   "cell_type": "code",
   "execution_count": 9,
   "metadata": {},
   "outputs": [
    {
     "data": {
      "text/plain": [
       "['1234:Jozef:Miloslav:Hurban:Legal, 4567:Milan:Rastislav:Stefanik:Defence, 4563:Jozef::Murgas:Development, 4167:Milan:Rastislav:Stefanik:Defence',\n",
       " '1111:Pista::Hufnagel:Sales, 4563:Pista::Hufnagel:Sales, 4543:Pista::Hufnagel:Sales, 3211:Pista::Hufnagel:Sales, 4133:Pista::Hufnagel:Sales,',\n",
       " nan,\n",
       " nan,\n",
       " nan]"
      ]
     },
     "execution_count": 9,
     "metadata": {},
     "output_type": "execute_result"
    }
   ],
   "source": [
    "list(open_l_df.output)"
   ]
  },
  {
   "cell_type": "code",
   "execution_count": null,
   "metadata": {},
   "outputs": [],
   "source": []
  }
 ],
 "metadata": {
  "kernelspec": {
   "display_name": "Python 3",
   "language": "python",
   "name": "python3"
  },
  "language_info": {
   "codemirror_mode": {
    "name": "ipython",
    "version": 3
   },
   "file_extension": ".py",
   "mimetype": "text/x-python",
   "name": "python",
   "nbconvert_exporter": "python",
   "pygments_lexer": "ipython3",
   "version": "3.10.2"
  }
 },
 "nbformat": 4,
 "nbformat_minor": 2
}
